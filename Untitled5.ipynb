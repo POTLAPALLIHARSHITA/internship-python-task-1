{
  "nbformat": 4,
  "nbformat_minor": 0,
  "metadata": {
    "colab": {
      "provenance": [],
      "authorship_tag": "ABX9TyO5FAh4wxWRk292j61JGMyM",
      "include_colab_link": true
    },
    "kernelspec": {
      "name": "python3",
      "display_name": "Python 3"
    },
    "language_info": {
      "name": "python"
    }
  },
  "cells": [
    {
      "cell_type": "markdown",
      "metadata": {
        "id": "view-in-github",
        "colab_type": "text"
      },
      "source": [
        "<a href=\"https://colab.research.google.com/github/POTLAPALLIHARSHITA/internship-python-task-1/blob/main/Untitled5.ipynb\" target=\"_parent\"><img src=\"https://colab.research.google.com/assets/colab-badge.svg\" alt=\"Open In Colab\"/></a>"
      ]
    },
    {
      "cell_type": "code",
      "execution_count": 2,
      "metadata": {
        "colab": {
          "base_uri": "https://localhost:8080/"
        },
        "id": "FD_sh3rDeP_p",
        "outputId": "61652fbf-54ae-4615-d845-9beb01118e95"
      },
      "outputs": [
        {
          "output_type": "stream",
          "name": "stdout",
          "text": [
            "Hello,World!\n"
          ]
        }
      ],
      "source": [
        "print(\"Hello,World!\")"
      ]
    },
    {
      "cell_type": "code",
      "source": [
        "name = \"Harshita\"\n",
        "age = 19\n",
        "favorite_hobby = \"Learning new things\"\n",
        "print(\"Name:\", name)\n",
        "print(\"Age:\", age)\n",
        "print(\"Favorite Hobby:\", favorite_hobby)\n"
      ],
      "metadata": {
        "colab": {
          "base_uri": "https://localhost:8080/"
        },
        "id": "-xzE62Nue5d3",
        "outputId": "a7fc1dc4-e65f-46c5-fab1-1e629660da6d"
      },
      "execution_count": 3,
      "outputs": [
        {
          "output_type": "stream",
          "name": "stdout",
          "text": [
            "Name: Harshita\n",
            "Age: 19\n",
            "Favorite Hobby: Learning new things\n"
          ]
        }
      ]
    },
    {
      "cell_type": "code",
      "source": [
        "# Assigning the name \"ChatGPT\" to the variable 'name'\n",
        "name = \"Harshita\"\n",
        "\n",
        "# Assigning the age 4 to the variable 'age'\n",
        "age = 19  # AI years :)\n",
        "\n",
        "# Assigning the hobby \"Learning new things\" to the variable 'favorite_hobby'\n",
        "favorite_hobby = \"Learning new things\"\n",
        "\n",
        "# Printing the value of the 'name' variable with a label\n",
        "print(\"Name:\", name)\n",
        "\n",
        "# Printing the value of the 'age' variable with a label\n",
        "print(\"Age:\", age)\n",
        "\n",
        "# Printing the value of the 'favorite_hobby' variable with a label\n",
        "print(\"Favorite Hobby:\", favorite_hobby)"
      ],
      "metadata": {
        "colab": {
          "base_uri": "https://localhost:8080/"
        },
        "id": "VfH8_75tfHY5",
        "outputId": "16b6ee93-09a3-4a01-ac93-ddcac5e4abb8"
      },
      "execution_count": 4,
      "outputs": [
        {
          "output_type": "stream",
          "name": "stdout",
          "text": [
            "Name: Harshita\n",
            "Age: 19\n",
            "Favorite Hobby: Learning new things\n"
          ]
        }
      ]
    },
    {
      "cell_type": "code",
      "source": [
        "number = int(input(\"Enter an integer: \"))\n",
        "if number > 0:\n",
        "    print(\"The number is positive.\")\n",
        "elif number < 0:\n",
        "    print(\"The number is negative.\")\n",
        "else:\n",
        "    print(\"The number is zero.\")\n"
      ],
      "metadata": {
        "colab": {
          "base_uri": "https://localhost:8080/"
        },
        "id": "N7fY3RbZfSeN",
        "outputId": "210f027b-6bc5-4731-bcc6-128a7bdfa564"
      },
      "execution_count": 5,
      "outputs": [
        {
          "output_type": "stream",
          "name": "stdout",
          "text": [
            "Enter an integer: 7\n",
            "The number is positive.\n"
          ]
        }
      ]
    },
    {
      "cell_type": "code",
      "source": [
        "year = int(input(\"Enter a year: \"))\n",
        "if (year % 4 == 0 and year % 100 != 0) or (year % 400 == 0):\n",
        "    print(year, \"is a leap year.\")\n",
        "else:\n",
        "    print(year, \"is not a leap year.\")"
      ],
      "metadata": {
        "colab": {
          "base_uri": "https://localhost:8080/"
        },
        "id": "myLKK4jqfh0C",
        "outputId": "4e690815-1452-4f5e-f0ca-ffba44404734"
      },
      "execution_count": 6,
      "outputs": [
        {
          "output_type": "stream",
          "name": "stdout",
          "text": [
            "Enter a year: 356\n",
            "356 is a leap year.\n"
          ]
        }
      ]
    },
    {
      "cell_type": "code",
      "source": [
        "for i in range(1, 11):\n",
        "    print(i)"
      ],
      "metadata": {
        "colab": {
          "base_uri": "https://localhost:8080/"
        },
        "id": "_L6aPIxEfreu",
        "outputId": "0c8212f5-7b62-47e5-f4c5-a08f06c0039b"
      },
      "execution_count": 7,
      "outputs": [
        {
          "output_type": "stream",
          "name": "stdout",
          "text": [
            "1\n",
            "2\n",
            "3\n",
            "4\n",
            "5\n",
            "6\n",
            "7\n",
            "8\n",
            "9\n",
            "10\n"
          ]
        }
      ]
    },
    {
      "cell_type": "code",
      "source": [
        "number = int(input(\"Enter a number: \"))\n",
        "i = 1\n",
        "while i <= 10:\n",
        "    print(f\"{number} x {i} = {number * i}\")\n",
        "    i += 1"
      ],
      "metadata": {
        "colab": {
          "base_uri": "https://localhost:8080/"
        },
        "id": "JRIw1uinfyXl",
        "outputId": "d381c53a-d4d4-4e2d-aae9-7419d548dac7"
      },
      "execution_count": 8,
      "outputs": [
        {
          "output_type": "stream",
          "name": "stdout",
          "text": [
            "Enter a number: 6\n",
            "6 x 1 = 6\n",
            "6 x 2 = 12\n",
            "6 x 3 = 18\n",
            "6 x 4 = 24\n",
            "6 x 5 = 30\n",
            "6 x 6 = 36\n",
            "6 x 7 = 42\n",
            "6 x 8 = 48\n",
            "6 x 9 = 54\n",
            "6 x 10 = 60\n"
          ]
        }
      ]
    },
    {
      "cell_type": "code",
      "source": [
        "for i in range(1, 11):\n",
        "    if i % 3 == 0:\n",
        "        continue\n",
        "    print(i)"
      ],
      "metadata": {
        "colab": {
          "base_uri": "https://localhost:8080/"
        },
        "id": "WRVIfnCXgN83",
        "outputId": "563b1f5c-1d69-423b-ef1f-a6567fc5f296"
      },
      "execution_count": 9,
      "outputs": [
        {
          "output_type": "stream",
          "name": "stdout",
          "text": [
            "1\n",
            "2\n",
            "4\n",
            "5\n",
            "7\n",
            "8\n",
            "10\n"
          ]
        }
      ]
    },
    {
      "cell_type": "code",
      "source": [],
      "metadata": {
        "id": "a9tOEcUDgjsj"
      },
      "execution_count": null,
      "outputs": []
    },
    {
      "cell_type": "code",
      "source": [
        "for i in range(1, 11):\n",
        "    if i > 5:\n",
        "        break\n",
        "    print(i)"
      ],
      "metadata": {
        "colab": {
          "base_uri": "https://localhost:8080/"
        },
        "id": "mH7IaIMVgj7p",
        "outputId": "70249641-8435-405f-a715-e6b480cd997e"
      },
      "execution_count": 10,
      "outputs": [
        {
          "output_type": "stream",
          "name": "stdout",
          "text": [
            "1\n",
            "2\n",
            "3\n",
            "4\n",
            "5\n"
          ]
        }
      ]
    },
    {
      "cell_type": "code",
      "source": [
        "def greet(name):\n",
        "    print(f\"Hello, {name}!\")\n",
        "greet(\"Alice\")"
      ],
      "metadata": {
        "colab": {
          "base_uri": "https://localhost:8080/"
        },
        "id": "79zmFAEqgtpa",
        "outputId": "c7e90850-c452-4c1c-d981-878b783d4ea0"
      },
      "execution_count": 11,
      "outputs": [
        {
          "output_type": "stream",
          "name": "stdout",
          "text": [
            "Hello, Alice!\n"
          ]
        }
      ]
    },
    {
      "cell_type": "code",
      "source": [
        "def add_numbers(a, b):\n",
        "    return a + b\n",
        "result = add_numbers(3, 5)\n",
        "print(\"The sum is:\", result)"
      ],
      "metadata": {
        "colab": {
          "base_uri": "https://localhost:8080/"
        },
        "id": "-Z3Vzbj6g5uo",
        "outputId": "3303022d-77a5-4d9b-d4f3-c81e2a925ba8"
      },
      "execution_count": 12,
      "outputs": [
        {
          "output_type": "stream",
          "name": "stdout",
          "text": [
            "The sum is: 8\n"
          ]
        }
      ]
    }
  ]
}