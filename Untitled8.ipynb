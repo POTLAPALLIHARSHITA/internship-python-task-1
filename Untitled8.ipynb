{
  "nbformat": 4,
  "nbformat_minor": 0,
  "metadata": {
    "colab": {
      "provenance": [],
      "authorship_tag": "ABX9TyPay0GieOYDusz2esqntCvD",
      "include_colab_link": true
    },
    "kernelspec": {
      "name": "python3",
      "display_name": "Python 3"
    },
    "language_info": {
      "name": "python"
    }
  },
  "cells": [
    {
      "cell_type": "markdown",
      "metadata": {
        "id": "view-in-github",
        "colab_type": "text"
      },
      "source": [
        "<a href=\"https://colab.research.google.com/github/POTLAPALLIHARSHITA/internship-python-task-1/blob/main/Untitled8.ipynb\" target=\"_parent\"><img src=\"https://colab.research.google.com/assets/colab-badge.svg\" alt=\"Open In Colab\"/></a>"
      ]
    },
    {
      "cell_type": "code",
      "execution_count": 2,
      "metadata": {
        "colab": {
          "base_uri": "https://localhost:8080/"
        },
        "id": "HoeQIulFSY8s",
        "outputId": "5b3a2fc9-6e4b-49af-836c-5e8ec89e3397"
      },
      "outputs": [
        {
          "output_type": "stream",
          "name": "stdout",
          "text": [
            "Updated array: [10, 20, 30, 40, 50, 60]\n"
          ]
        }
      ],
      "source": [
        "numbers = [10, 20, 30, 40, 50]\n",
        "new_number = 60\n",
        "numbers.append(new_number)\n",
        "print(\"Updated array:\", numbers)"
      ]
    },
    {
      "cell_type": "code",
      "source": [
        "numbers = []\n",
        "num_elements = int(input())\n",
        "for i in range(num_elements):\n",
        "    new_number = int(input(f\"Enter number {i+1}: \"))\n",
        "    numbers.append(new_number)\n",
        "print(\"Final array:\", numbers)"
      ],
      "metadata": {
        "id": "nnRXLJidTOse"
      },
      "execution_count": null,
      "outputs": []
    },
    {
      "cell_type": "code",
      "source": [
        "import json\n",
        "json_data = '''\n",
        "{\n",
        "    \"date\": \"2024-08-20\",\n",
        "\n",
        "    \"explanation\": \"This is a sample explanation of the Astronomy Picture of the Day.\",\n",
        "\n",
        "    \"hdurl\": \"https://example.com/hdurl\",\n",
        "\n",
        "    \"media_type\": \"image\",\n",
        "\n",
        "    \"service_version\": \"v1\",\n",
        "\n",
        "    \"title\": \"Sample APOD Title\",\n",
        "\n",
        "    \"url\": \"https://example.com/image.jpg\"\n",
        "\n",
        "}\n",
        "\n",
        "'''\n",
        "data = json.loads(json_data)\n",
        "explanation = data.get(\"explanation\", \"No explanation available\")\n",
        "title = data.get(\"title\", \"No title available\")\n",
        "print(\"Explanation:\", explanation)\n",
        "print(\"Title:\", title)"
      ],
      "metadata": {
        "id": "XlsUHFlwTf9-"
      },
      "execution_count": null,
      "outputs": []
    },
    {
      "cell_type": "code",
      "source": [
        "import requests\n",
        "url = \"http://api.open-notify.org/iss-now.json\"\n",
        "response = requests.get(url)\n",
        "if response.status_code == 200:\n",
        "  data = response.json()\n",
        "  print(json.dumps(data, indent=4))\n",
        "else:\n",
        "  print(f\"Failed to retrieve data. Status code: {response.status_code}\")\n",
        "\n"
      ],
      "metadata": {
        "id": "u0XNctOUUrzq"
      },
      "execution_count": null,
      "outputs": []
    },
    {
      "cell_type": "code",
      "source": [
        "import requests\n",
        "\n",
        "\n",
        "\n",
        "url = \"http://api.open-notify.org/iss-now.json\"\n",
        "\n",
        "response = requests.get(url)\n",
        "\n",
        "\n",
        "\n",
        "if response.status_code == 200:\n",
        "\n",
        "    data = response.json()\n",
        "\n",
        "\n",
        "\n",
        "    iss_position = data.get(\"iss_position\", {})\n",
        "\n",
        "    timestamp = data.get(\"timestamp\")\n",
        "\n",
        "\n",
        "\n",
        "    latitude = iss_position.get(\"latitude\", \"No data\")\n",
        "\n",
        "    longitude = iss_position.get(\"longitude\", \"No data\")\n",
        "\n",
        "\n",
        "\n",
        "    print(\"Latitude:\", latitude)\n",
        "\n",
        "    print(\"Longitude:\", longitude)\n",
        "\n",
        "    print(\"Timestamp:\", timestamp)\n",
        "\n",
        "else:\n",
        "\n",
        "    print(f\"Failed to retrieve data. Status code: {response.status_code}\")\n"
      ],
      "metadata": {
        "id": "cz_28PKiVLx0"
      },
      "execution_count": null,
      "outputs": []
    },
    {
      "cell_type": "code",
      "source": [
        "import requests\n",
        "\n",
        "import pandas as pd\n",
        "\n",
        "import time\n",
        "\n",
        "\n",
        "\n",
        "url = \"http://api.open-notify.org/iss-now.json\"\n",
        "\n",
        "\n",
        "\n",
        "num_records = 100\n",
        "\n",
        "\n",
        "\n",
        "timestamps = []\n",
        "\n",
        "latitudes = []\n",
        "\n",
        "longitudes = []\n",
        "\n",
        "\n",
        "\n",
        "for _ in range(num_records):\n",
        "\n",
        "    response = requests.get(url)\n",
        "\n",
        "\n",
        "\n",
        "    if response.status_code == 200:\n",
        "\n",
        "        data = response.json()\n",
        "\n",
        "        timestamp = data.get(\"timestamp\")\n",
        "\n",
        "        iss_position = data.get(\"iss_position\", {})\n",
        "\n",
        "\n",
        "\n",
        "        latitude = iss_position.get(\"latitude\")\n",
        "\n",
        "        longitude = iss_position.get(\"longitude\")\n",
        "\n",
        "\n",
        "\n",
        "        timestamps.append(timestamp)\n",
        "\n",
        "        latitudes.append(latitude)\n",
        "\n",
        "        longitudes.append(longitude)\n",
        "\n",
        "\n",
        "\n",
        "        time.sleep(10)\n",
        "\n",
        "    else:\n",
        "\n",
        "        print(f\"Failed to retrieve data. Status code: {response.status_code}\")\n",
        "\n",
        "        break\n",
        "\n",
        "\n",
        "\n",
        "df = pd.DataFrame({\n",
        "\n",
        "    \"Timestamp\": timestamps,\n",
        "\n",
        "    \"Latitude\": latitudes,\n",
        "\n",
        "    \"Longitude\": longitudes\n",
        "\n",
        "})\n",
        "\n",
        "\n",
        "\n",
        "df.to_csv(\"iss_location_data.csv\", index=False)\n",
        "\n",
        "\n",
        "\n",
        "print(\"Data has been written to iss_location_data.csv\")"
      ],
      "metadata": {
        "id": "93WEHEvtVV2U"
      },
      "execution_count": null,
      "outputs": []
    }
  ]
}